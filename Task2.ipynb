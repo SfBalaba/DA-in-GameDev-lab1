{
  "nbformat": 4,
  "nbformat_minor": 0,
  "metadata": {
    "colab": {
      "provenance": [],
      "collapsed_sections": [],
      "authorship_tag": "ABX9TyOM4uG2QpBF32Cj7dz8f+0Z",
      "include_colab_link": true
    },
    "kernelspec": {
      "name": "python3",
      "display_name": "Python 3"
    },
    "language_info": {
      "name": "python"
    }
  },
  "cells": [
    {
      "cell_type": "markdown",
      "metadata": {
        "id": "view-in-github",
        "colab_type": "text"
      },
      "source": [
        "<a href=\"https://colab.research.google.com/github/sf-balaba/DA-in-GameDev-lab1/blob/main/Task2.ipynb\" target=\"_parent\"><img src=\"https://colab.research.google.com/assets/colab-badge.svg\" alt=\"Open In Colab\"/></a>"
      ]
    },
    {
      "cell_type": "code",
      "execution_count": 1,
      "metadata": {
        "colab": {
          "base_uri": "https://localhost:8080/",
          "height": 421
        },
        "id": "J5yLABIqYtRM",
        "outputId": "704daa43-a3b3-4800-c914-2b801547559f"
      },
      "outputs": [
        {
          "output_type": "stream",
          "name": "stdout",
          "text": [
            "[0.44852871]\n",
            "[0.11869413]\n",
            "[0.45261935] [0.11875337] 2837.1090023385655\n",
            "[0.46076212] [0.11887127] 2804.001667704202\n",
            "[0.47288063] [0.11904666] 2755.115188369313\n",
            "[0.48886179] [0.11927782] 2691.3519895466\n",
            "[0.50855754] [0.11956249] 2613.871559765211\n",
            "[1.75150804] [0.10813616] 189.0791449368985\n"
          ]
        },
        {
          "output_type": "execute_result",
          "data": {
            "text/plain": [
              "[<matplotlib.lines.Line2D at 0x7f95db82d650>]"
            ]
          },
          "metadata": {},
          "execution_count": 1
        },
        {
          "output_type": "display_data",
          "data": {
            "text/plain": [
              "<Figure size 432x288 with 1 Axes>"
            ],
            "image/png": "[encoded data removed]"
          },
          "metadata": {
            "needs_background": "light"
          }
        }
      ],
      "source": [
        "#Import the required modules, numpy for calculation, and Matplotlib for drawing\n",
        "import numpy as np\n",
        "import matplotlib.pyplot as plt\n",
        "\n",
        "# define data, and change list to array\n",
        "x = [3,21,22,34,54,34,55,67,89,99]\n",
        "x = np.array(x)\n",
        "y = [2,22,24,65,79,82,55,130,150,199]\n",
        "y = np.array(y)\n",
        "\n",
        "#Show the effect of a scatter plot\n",
        "plt.scatter(x,y)\n",
        "#The basic linear regression model is wx + b, and sinse this is a two-dementional space, the model is ax + b\n",
        "\n",
        "def model(a, b, x):\n",
        "  return a*x+b\n",
        "\n",
        "#The most commonly used ioss function of linear regression model is the loss function of mean variance difference\n",
        "def loss_function(a, b, x, y):\n",
        "  num = len(x)\n",
        "  prediction = model(a, b, x)\n",
        "  return (0.5/num) * (np.square(prediction-y)).sum()\n",
        "\n",
        "#The optimization function mainly USES partial derivatives to update two parameters a and b\n",
        "def optimize(a, b, x, y):\n",
        "  num = len(x)\n",
        "  prediction = model(a,b,x)\n",
        "  #Update the values of A and B by sinding the partial derivatives of the loss function on a and b\n",
        "  da = (1.0/num) * ((prediction -y)*x).sum()\n",
        "  db = (1.0/num) * ((prediction -y).sum())\n",
        "  a = a-Lr*da\n",
        "  b = b-Lr*db\n",
        "  return a, b\n",
        "\n",
        "#iterated function, return a and b\n",
        "def iterate(a,b,x,y,times):\n",
        "  for i in range(times):\n",
        "    a,b = optimize(a,b,x,y)\n",
        "  return a, b\n",
        "\n",
        "#Initialize parameters and display\n",
        "a = np.random.rand(1)\n",
        "print(a)\n",
        "b = np.random.rand(1)\n",
        "print(b)\n",
        "Lr = 0.000001\n",
        "\n",
        "#For thw first iteartion, thw parameter values, losses and visualization after the iteration are displayed\n",
        "a,b = iterate(a,b,x,y,1)\n",
        "prediction = model(a,b,x)\n",
        "loss = loss_function(a,b,x,y)\n",
        "print(a,b,loss)\n",
        "plt.scatter(x,y)\n",
        "plt.plot(x, prediction)\n",
        "\n",
        "\n",
        "a,b = iterate(a,b,x,y,2)\n",
        "prediction = model(a,b,x)\n",
        "loss = loss_function(a,b,x,y)\n",
        "print(a,b,loss)\n",
        "plt.scatter(x,y)\n",
        "plt.plot(x, prediction)\n",
        "\n",
        "a,b = iterate(a,b,x,y,3)\n",
        "prediction = model(a,b,x)\n",
        "loss = loss_function(a,b,x,y)\n",
        "\n",
        "print(a,b,loss)\n",
        "plt.scatter(x,y)\n",
        "plt.plot(x, prediction)\n",
        "\n",
        "a,b = iterate(a,b,x,y,4)\n",
        "prediction = model(a,b,x)\n",
        "loss = loss_function(a,b,x,y)\n",
        "print(a,b,loss)\n",
        "plt.scatter(x,y)\n",
        "plt.plot(x, prediction)\n",
        "\n",
        "a,b = iterate(a,b,x,y,5)\n",
        "prediction = model(a,b,x)\n",
        "loss = loss_function(a,b,x,y)\n",
        "print(a,b,loss)\n",
        "plt.scatter(x,y)\n",
        "plt.plot(x, prediction)\n",
        "\n",
        "a,b = iterate(a,b,x,y,10000)\n",
        "prediction = model(a,b,x)\n",
        "loss = loss_function(a,b,x,y)\n",
        "print(a,b,loss)\n",
        "plt.scatter(x,y)\n",
        "plt.plot(x, prediction)"
      ]
    }
  ]
}